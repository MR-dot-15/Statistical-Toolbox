{
  "nbformat": 4,
  "nbformat_minor": 0,
  "metadata": {
    "colab": {
      "name": "PCR_related.ipynb",
      "provenance": []
    },
    "kernelspec": {
      "name": "python3",
      "display_name": "Python 3"
    },
    "language_info": {
      "name": "python"
    }
  },
  "cells": [
    {
      "cell_type": "code",
      "execution_count": null,
      "metadata": {
        "id": "s3qyYTHwbW9U"
      },
      "outputs": [],
      "source": [
        "import matplotlib.pyplot as plt\n",
        "plt.style.use('dark_background')\n",
        "import numpy as np"
      ]
    },
    {
      "cell_type": "code",
      "source": [
        "# color definition\n",
        "grey = [.5, .5, .5]\n",
        "bg = [40/255, 40/255, 50/255]\n",
        "yel = [.7, .7, .3]\n",
        "bl = [.6, .6, 1]\n",
        "rd = [1, .6, .6]"
      ],
      "metadata": {
        "id": "MX2bfDfbe7fI"
      },
      "execution_count": null,
      "outputs": []
    },
    {
      "cell_type": "code",
      "source": [
        "# custom-set the default background\n",
        "plt.rcParams.update({'figure.facecolor': bg})\n",
        "plt.rcParams.update({'axes.facecolor': bg})"
      ],
      "metadata": {
        "id": "-bNG3x973Pe3"
      },
      "execution_count": null,
      "outputs": []
    },
    {
      "cell_type": "code",
      "source": [
        "def plot_vector(origin, dx, dy, axes, color, alpha = 1):\n",
        "  (x, y) = origin\n",
        "  axes.quiver(x, y, dx, dy, \n",
        "          angles='xy', \n",
        "          scale_units='xy', \n",
        "          scale=1, color=color, alpha = alpha)"
      ],
      "metadata": {
        "id": "ZCjKwDrPeNr6"
      },
      "execution_count": null,
      "outputs": []
    },
    {
      "cell_type": "code",
      "source": [
        "A = np.array([[4, 0], [1, 2]])\n",
        "l, v = np.linalg.eig(A)\n",
        "v1 = v[:,0]; v2 = v[:,1]"
      ],
      "metadata": {
        "id": "iudQeBwUf2M5"
      },
      "execution_count": null,
      "outputs": []
    },
    {
      "cell_type": "code",
      "source": [
        "fig, (ax1, ax2) = plt.subplots(2)\n",
        "\n",
        "ax1.grid(True, color = grey, alpha = 0.5)\n",
        "ax1.set_xlim(-0.5, 4.5)\n",
        "ax1.set_ylim(-0.5, 4.5)\n",
        "\n",
        "#plotting the vectors\n",
        "origin = (0, 0)\n",
        "# just a vector\n",
        "plot_vector(origin, 1, 0, ax1, rd)\n",
        "# eig\n",
        "plot_vector(origin, v1[0], v1[1], ax1, bl)\n",
        "plot_vector(origin, v2[0], v2[1], ax1, bl)\n",
        "\n",
        "ax2.grid(True, color = grey, alpha = 0.5)\n",
        "ax2.set_xlim(-0.5, 4.5)\n",
        "ax2.set_ylim(-0.5, 4.5)\n",
        "# transformed \"just a vector\"\n",
        "plot_vector(origin, 4, 1, ax2, yel)\n",
        "# transformed eig\n",
        "plot_vector(origin, l[0]*v1[0], l[0]*v1[1], ax2, bl)\n",
        "plot_vector(origin, l[1]*v2[0], l[1]*v2[1], ax2, bl)\n",
        "\n",
        "fig.get_figure()"
      ],
      "metadata": {
        "colab": {
          "base_uri": "https://localhost:8080/",
          "height": 265
        },
        "id": "jarzttKScQGU",
        "outputId": "4adbf49d-ee71-4dea-9eb2-2c2c3d4b5c69"
      },
      "execution_count": null,
      "outputs": [
        {
          "output_type": "display_data",
          "data": {
            "image/png": "[encoded data removed]",
            "text/plain": [
              "<Figure size 432x288 with 2 Axes>"
            ]
          },
          "metadata": {}
        }
      ]
    },
    {
      "cell_type": "code",
      "source": [
        "white = np.random.multivariate_normal(np.array([0,0]),\n",
        "                                     np.eye(2),\n",
        "                                     500)\n",
        "# scaling matrix\n",
        "scale = np.array([[2,0], [0,1/2]])\n",
        "# rotation matrix, theta = 45 deg\n",
        "theta = 5*np.pi/12\n",
        "c, s = np.cos(theta), np.sin(theta)\n",
        "rotate = np.array([[c, -s], [s, c]])\n",
        "# R^{-1}\n",
        "rot_inv = np.linalg.inv(rotate)\n",
        "# Sigma = RSSR^{-1}\n",
        "cov = rotate @ (scale**2 @ rot_inv)"
      ],
      "metadata": {
        "id": "E-hvj8mS37Ls"
      },
      "execution_count": null,
      "outputs": []
    },
    {
      "cell_type": "code",
      "source": [
        "SD = scale @ white.T\n",
        "RSD = rotate @ (scale @ white.T)"
      ],
      "metadata": {
        "id": "CqE6362Zvxk7"
      },
      "execution_count": null,
      "outputs": []
    },
    {
      "cell_type": "code",
      "source": [
        "fig, (ax1, ax2, ax3) = plt.subplots(1,3)\n",
        "plt.setp(fig,\n",
        "         size_inches = (10, 12))\n",
        "origin = (0, 0)\n",
        "\n",
        "# white\n",
        "ax1.scatter(white[:,0], white[:,1], s=10,\n",
        "           color=bl, edgecolor = grey)\n",
        "plot_vector(origin, 1, 0, ax1, rd)\n",
        "plot_vector(origin, 0, 1, ax1, yel)\n",
        "\n",
        "ax1.grid(True, color = grey, alpha = 0.5)\n",
        "ax1.set_aspect('equal')\n",
        "ax1.set_xlim(-5, 5)\n",
        "ax1.set_ylim(-6, 7)\n",
        "\n",
        "# scaled white\n",
        "ax2.scatter(SD[0,:], SD[1,:], s=10,\n",
        "           color=bl, edgecolor = grey)\n",
        "plot_vector(origin, 2, 0, ax2, rd)\n",
        "plot_vector(origin, 0, 0.5, ax2, yel)\n",
        "\n",
        "ax2.grid(True, color = grey, alpha = 0.5)\n",
        "ax2.set_aspect('equal')\n",
        "ax2.set_xlim(-5, 5)\n",
        "ax2.set_ylim(-6, 7)\n",
        "\n",
        "# after transformation\n",
        "new_basis = rotate @ scale\n",
        "\n",
        "ax3.scatter(RSD[0,:], RSD[1,:], s=10,\n",
        "           color=bl, edgecolor = grey)\n",
        "plot_vector(origin, \n",
        "            new_basis[0,0],\n",
        "            new_basis[1,0], \n",
        "            ax3, rd)\n",
        "plot_vector(origin,\n",
        "            new_basis[0,1],\n",
        "            new_basis[1,1],\n",
        "            ax3, yel)\n",
        "\n",
        "ax3.grid(True, color = grey, alpha = 0.5)\n",
        "ax3.set_aspect('equal')\n",
        "ax3.set_xlim(-5, 5)\n",
        "ax3.set_ylim(-6, 7)\n",
        "\n",
        "fig.get_figure()"
      ],
      "metadata": {
        "colab": {
          "base_uri": "https://localhost:8080/",
          "height": 261
        },
        "id": "VjxxKJhF4VdB",
        "outputId": "7b163079-0dfc-4653-f6ab-d0ba09193aaf"
      },
      "execution_count": null,
      "outputs": [
        {
          "output_type": "display_data",
          "data": {
            "image/png": "[encoded data removed]",
            "text/plain": [
              "<Figure size 720x864 with 3 Axes>"
            ]
          },
          "metadata": {}
        }
      ]
    },
    {
      "cell_type": "code",
      "source": [
        "data = np.random.multivariate_normal([1,1],\n",
        "                                     np.array([[4,1],[1,2]]),\n",
        "                                     50)\n",
        "np.cov(data.T)"
      ],
      "metadata": {
        "id": "3O8y-QN4cGdt",
        "colab": {
          "base_uri": "https://localhost:8080/"
        },
        "outputId": "b01edf1c-dca6-4ee1-f6b9-b53fc4dab3c1"
      },
      "execution_count": null,
      "outputs": [
        {
          "output_type": "execute_result",
          "data": {
            "text/plain": [
              "array([[4.76730856, 1.3756246 ],\n",
              "       [1.3756246 , 2.27769847]])"
            ]
          },
          "metadata": {},
          "execution_count": 11
        }
      ]
    },
    {
      "cell_type": "code",
      "source": [
        "# standardization\n",
        "data[:,0] = (data[:,0] - np.mean(data[:,0]))/np.std(data[:,0])\n",
        "data[:,1] = (data[:,1] - np.mean(data[:,1]))/np.std(data[:,1])\n",
        "\n",
        "np.cov(data.T)"
      ],
      "metadata": {
        "colab": {
          "base_uri": "https://localhost:8080/"
        },
        "id": "CQF9V78PKfht",
        "outputId": "8eeac648-7a1a-4173-85cc-653a0faa0b4d"
      },
      "execution_count": null,
      "outputs": [
        {
          "output_type": "execute_result",
          "data": {
            "text/plain": [
              "array([[1.02040816, 0.40689618],\n",
              "       [0.40689618, 1.02040816]])"
            ]
          },
          "metadata": {},
          "execution_count": 10
        }
      ]
    }
  ]
}